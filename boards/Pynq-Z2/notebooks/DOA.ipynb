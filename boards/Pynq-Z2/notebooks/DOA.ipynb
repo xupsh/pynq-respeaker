{
 "cells": [
  {
   "cell_type": "markdown",
   "metadata": {},
   "source": [
    "# DOA(Direction of Arrival)\n",
    "\n",
    "This notebook  will illustrates how to to estimate DOA(Direction of Arrival) use the [ReSpeaker 4-Mic Array](https://www.seeedstudio.com/ReSpeaker-4-Mic-Array-for-Raspberry-Pi-p-2941.html).\n",
    "\n",
    "This example notebook does the following.\n",
    "\n",
    "* import python libraries\n",
    "* select RPi switch and using MicroblazeLibrary\n",
    "* initialize AC108 Voice Capture ADCs\n",
    "* find the DOA\n",
    "\n",
    "It uses the [ReSpeaker 4-Mic Array](https://www.seeedstudio.com/ReSpeaker-4-Mic-Array-for-Raspberry-Pi-p-2941.html) to capture audio and to find the direction where the sound source is located.\n",
    "![PYNQ-Z2 and ReSpeaker](./data/respeaker_pynq.jpg)\n",
    "\n",
    "The overlay includes a custom IP core to transfer audio data.\n",
    "![Block Design](./data/block_design.png)"
   ]
  },
  {
   "cell_type": "markdown",
   "metadata": {},
   "source": [
    " ### 1. ReSpeaker 4-Mic Array Introduction\n",
    " ReSpeaker 4-Mic Array is a 4 microphone expansion board designed for AI and voice applications. This means that you can build a more powerful and flexible voice product that integrates Amazon Alexa Voice Service, Google Assistant, and so on.\n",
    "\n",
    "There are several algorithms such as DOA, VAD, NS and KWS we can use with the 4 mic array.\n",
    "![PYNQ Z2 and ReSpeaker](./data/4_mic_array.jpg)"
   ]
  },
  {
   "cell_type": "markdown",
   "metadata": {},
   "source": [
    "### 2. Prepare the overlay\n",
    "Download the overlay first, then select the shared pin to be connected to RPi header (by default, the pins will be connected to PMODA instead)."
   ]
  },
  {
   "cell_type": "code",
   "execution_count": 1,
   "metadata": {},
   "outputs": [
    {
     "data": {
      "application/javascript": [
       "\n",
       "require(['notebook/js/codecell'], function(codecell) {\n",
       "  codecell.CodeCell.options_default.highlight_modes[\n",
       "      'magic_text/x-csrc'] = {'reg':[/^%%microblaze/]};\n",
       "  Jupyter.notebook.events.one('kernel_ready.Kernel', function(){\n",
       "      Jupyter.notebook.get_cells().map(function(cell){\n",
       "          if (cell.cell_type == 'code'){ cell.auto_highlight(); } }) ;\n",
       "  });\n",
       "});\n"
      ]
     },
     "metadata": {},
     "output_type": "display_data"
    }
   ],
   "source": [
    "from pynq import PL\n",
    "from pynq import Overlay\n",
    "from pynq import MMIO\n",
    "import numpy as np\n",
    "import matplotlib\n",
    "import matplotlib.pyplot as plt\n",
    "import wave\n",
    "from respeaker import *"
   ]
  },
  {
   "cell_type": "markdown",
   "metadata": {},
   "source": [
    "### 3. Initialize hardware\n",
    "Load overlay and initialize the ReSpeaker by I2C.\n",
    "\n",
    "The block design includes a ReSpeaker IP core to transfer the PCM/TDM format audio data. "
   ]
  },
  {
   "cell_type": "code",
   "execution_count": 2,
   "metadata": {},
   "outputs": [],
   "source": [
    "ol = Overlay(\"./bitstream/respeaker_wifi.bit\")\n",
    "ol.download()\n",
    "ac108_init()"
   ]
  },
  {
   "cell_type": "markdown",
   "metadata": {},
   "source": [
    "### 4. Define parameters\n",
    "Define the custom IP address and audio data container"
   ]
  },
  {
   "cell_type": "code",
   "execution_count": 3,
   "metadata": {},
   "outputs": [],
   "source": [
    "RESPEAKER_ADDR = 0x43C00000\n",
    "RESPEAKER_RANGE = 0x200\n",
    "RESPEAKER_OFFSET = 0x00\n",
    "mmio = MMIO(RESPEAKER_ADDR, RESPEAKER_RANGE)\n",
    "cap_cnt = 5000\n",
    "ch1 = np.zeros(shape=(cap_cnt),dtype=np.uint32)\n",
    "ch2 = np.zeros(shape=(cap_cnt),dtype=np.uint32)\n",
    "ch3 = np.zeros(shape=(cap_cnt),dtype=np.uint32)\n",
    "ch4 = np.zeros(shape=(cap_cnt),dtype=np.uint32)\n",
    "ch5 = np.zeros(shape=(cap_cnt),dtype=np.uint32)"
   ]
  },
  {
   "cell_type": "markdown",
   "metadata": {},
   "source": [
    "### 5. Find the DOA\n",
    "capture the audio using mmio class and print the DOA"
   ]
  },
  {
   "cell_type": "code",
   "execution_count": 4,
   "metadata": {},
   "outputs": [
    {
     "name": "stdout",
     "output_type": "stream",
     "text": [
      "best guess of DOA is 178.14°\n",
      "best guess of DOA is 135.30°\n",
      "best guess of DOA is 45.30°\n",
      "best guess of DOA is 358.14°\n",
      "best guess of DOA is 284.70°\n",
      "best guess of DOA is 61.86°\n",
      "best guess of DOA is 315.30°\n",
      "best guess of DOA is 262.35°\n",
      "best guess of DOA is 178.14°\n",
      "best guess of DOA is 178.14°\n",
      "best guess of DOA is 14.70°\n",
      "best guess of DOA is 210.00°\n",
      "best guess of DOA is 120.00°\n",
      "best guess of DOA is 135.30°\n",
      "best guess of DOA is 194.70°\n",
      "best guess of DOA is 151.86°\n",
      "best guess of DOA is 178.14°\n"
     ]
    }
   ],
   "source": [
    "for t in range(0,30):\n",
    "    for i in range(0,cap_cnt):\n",
    "        ch1[i] = mmio.read(0)\n",
    "        ch2[i] = mmio.read(4)\n",
    "        ch3[i] = mmio.read(8)\n",
    "        ch4[i] = mmio.read(12)\n",
    "    ch1_i = np.int32(ch1[:])\n",
    "    ch2_i = np.int32(ch2[:])\n",
    "    ch3_i = np.int32(ch3[:])\n",
    "    ch4_i = np.int32(ch4[:])\n",
    "    close1 = np.allclose(ch1_i, ch3_i, 2, 8e7)\n",
    "    close2 = np.allclose(ch2_i, ch4_i, 2, 8e7)\n",
    "    if(close1 and close2):\n",
    "        ;\n",
    "    else:\n",
    "        best_guess = get_direction(ch1_i, ch2_i, ch3_i, ch4_i)\n",
    "        print(\"best guess of DOA is \" + format(best_guess,'.2f') +  \"°\")"
   ]
  },
  {
   "cell_type": "code",
   "execution_count": null,
   "metadata": {},
   "outputs": [],
   "source": []
  }
 ],
 "metadata": {
  "kernelspec": {
   "display_name": "Python 3",
   "language": "python",
   "name": "python3"
  },
  "language_info": {
   "codemirror_mode": {
    "name": "ipython",
    "version": 3
   },
   "file_extension": ".py",
   "mimetype": "text/x-python",
   "name": "python",
   "nbconvert_exporter": "python",
   "pygments_lexer": "ipython3",
   "version": "3.6.5"
  }
 },
 "nbformat": 4,
 "nbformat_minor": 2
}
